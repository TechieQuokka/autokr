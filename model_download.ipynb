{
 "cells": [
  {
   "cell_type": "code",
   "execution_count": 1,
   "id": "c5d98fbf",
   "metadata": {},
   "outputs": [
    {
     "name": "stdout",
     "output_type": "stream",
     "text": [
      "hello\n"
     ]
    }
   ],
   "source": [
    "print('hello')"
   ]
  },
  {
   "cell_type": "code",
   "execution_count": 2,
   "id": "ecbd4873",
   "metadata": {},
   "outputs": [],
   "source": [
    "import whisper"
   ]
  },
  {
   "cell_type": "code",
   "execution_count": 3,
   "id": "7c7d5b3b",
   "metadata": {},
   "outputs": [
    {
     "name": "stderr",
     "output_type": "stream",
     "text": [
      "100%|█████████████████████████████████████| 2.88G/2.88G [04:49<00:00, 10.6MiB/s]\n"
     ]
    }
   ],
   "source": [
    "model = whisper.load_model(\"large-v3\")"
   ]
  },
  {
   "cell_type": "code",
   "execution_count": 1,
   "id": "cdc8cb33",
   "metadata": {},
   "outputs": [
    {
     "name": "stdout",
     "output_type": "stream",
     "text": [
      "✅ torch: 2.7.1+cu126\n",
      "✅ transformers: 4.41.0\n",
      "✅ whisper: OK\n",
      "✅ CUDA available: True\n",
      "   GPU: NVIDIA GeForce RTX 3060\n",
      "   VRAM: 11.99951171875 GB\n"
     ]
    }
   ],
   "source": [
    "import torch\n",
    "import transformers\n",
    "import whisper\n",
    "print('✅ torch:', torch.__version__)\n",
    "print('✅ transformers:', transformers.__version__)\n",
    "print('✅ whisper: OK')\n",
    "print('✅ CUDA available:', torch.cuda.is_available())\n",
    "if torch.cuda.is_available():\n",
    "    print('   GPU:', torch.cuda.get_device_name(0))\n",
    "    print('   VRAM:', torch.cuda.get_device_properties(0).total_memory / 1024**3, 'GB')"
   ]
  },
  {
   "cell_type": "code",
   "execution_count": null,
   "id": "b52d5065",
   "metadata": {},
   "outputs": [],
   "source": []
  }
 ],
 "metadata": {
  "kernelspec": {
   "display_name": "beethoven",
   "language": "python",
   "name": "python3"
  },
  "language_info": {
   "codemirror_mode": {
    "name": "ipython",
    "version": 3
   },
   "file_extension": ".py",
   "mimetype": "text/x-python",
   "name": "python",
   "nbconvert_exporter": "python",
   "pygments_lexer": "ipython3",
   "version": "3.11.9"
  }
 },
 "nbformat": 4,
 "nbformat_minor": 5
}
